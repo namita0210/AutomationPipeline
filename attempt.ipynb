{
 "cells": [
  {
   "cell_type": "code",
   "execution_count": 7,
   "metadata": {},
   "outputs": [],
   "source": [
    "from  mastermind import *"
   ]
  },
  {
   "cell_type": "code",
   "execution_count": 8,
   "metadata": {},
   "outputs": [],
   "source": [
    "path =  (r\"C:\\Users\\namit\\Downloads\\auto\\AutomationPipeline\\raw_belsimpel.xlsx\")"
   ]
  },
  {
   "cell_type": "code",
   "execution_count": 9,
   "metadata": {},
   "outputs": [],
   "source": [
    "r1 = Roboto()"
   ]
  },
  {
   "cell_type": "code",
   "execution_count": 10,
   "metadata": {},
   "outputs": [
    {
     "name": "stdout",
     "output_type": "stream",
     "text": [
      "Excel file successfully read into DataFrame.\n"
     ]
    }
   ],
   "source": [
    "df = r1.read_excel_to_dataframe(path)"
   ]
  },
  {
   "cell_type": "code",
   "execution_count": 12,
   "metadata": {},
   "outputs": [
    {
     "data": {
      "text/html": [
       "<div>\n",
       "<style scoped>\n",
       "    .dataframe tbody tr th:only-of-type {\n",
       "        vertical-align: middle;\n",
       "    }\n",
       "\n",
       "    .dataframe tbody tr th {\n",
       "        vertical-align: top;\n",
       "    }\n",
       "\n",
       "    .dataframe thead th {\n",
       "        text-align: right;\n",
       "    }\n",
       "</style>\n",
       "<table border=\"1\" class=\"dataframe\">\n",
       "  <thead>\n",
       "    <tr style=\"text-align: right;\">\n",
       "      <th></th>\n",
       "      <th>web-scraper-order</th>\n",
       "      <th>web-scraper-start-url</th>\n",
       "      <th>Rating</th>\n",
       "      <th>Review Date</th>\n",
       "      <th>Review Text</th>\n",
       "      <th>Pro_Con Review</th>\n",
       "      <th>Belsimpel</th>\n",
       "    </tr>\n",
       "  </thead>\n",
       "  <tbody>\n",
       "    <tr>\n",
       "      <th>0</th>\n",
       "      <td>1674825213-2</td>\n",
       "      <td>https://www.belsimpel.nl/google-pixel-7</td>\n",
       "      <td>5 sterren</td>\n",
       "      <td>*fd | 20-10-2022 over de Google Pixel 7 128GB ...</td>\n",
       "      <td>Vanaf een Huawei P30 pro die kapot ging de ove...</td>\n",
       "      <td>PluspuntSchermPluspuntSnelheidPluspuntCamera (...</td>\n",
       "      <td>NaN</td>\n",
       "    </tr>\n",
       "    <tr>\n",
       "      <th>1</th>\n",
       "      <td>1674825213-3</td>\n",
       "      <td>https://www.belsimpel.nl/google-pixel-7</td>\n",
       "      <td>5 sterren</td>\n",
       "      <td>*fd | 18-10-2022 over de Google Pixel 7 128GB ...</td>\n",
       "      <td>Voor de pure Android liefhebber is het een uit...</td>\n",
       "      <td>PluspuntPuur Android innovatief PluspuntScherm...</td>\n",
       "      <td>NaN</td>\n",
       "    </tr>\n",
       "  </tbody>\n",
       "</table>\n",
       "</div>"
      ],
      "text/plain": [
       "  web-scraper-order                    web-scraper-start-url     Rating  \\\n",
       "0      1674825213-2  https://www.belsimpel.nl/google-pixel-7  5 sterren   \n",
       "1      1674825213-3  https://www.belsimpel.nl/google-pixel-7  5 sterren   \n",
       "\n",
       "                                         Review Date  \\\n",
       "0  *fd | 20-10-2022 over de Google Pixel 7 128GB ...   \n",
       "1  *fd | 18-10-2022 over de Google Pixel 7 128GB ...   \n",
       "\n",
       "                                         Review Text  \\\n",
       "0  Vanaf een Huawei P30 pro die kapot ging de ove...   \n",
       "1  Voor de pure Android liefhebber is het een uit...   \n",
       "\n",
       "                                      Pro_Con Review  Belsimpel  \n",
       "0  PluspuntSchermPluspuntSnelheidPluspuntCamera (...        NaN  \n",
       "1  PluspuntPuur Android innovatief PluspuntScherm...        NaN  "
      ]
     },
     "execution_count": 12,
     "metadata": {},
     "output_type": "execute_result"
    }
   ],
   "source": [
    "df.head(2)"
   ]
  },
  {
   "cell_type": "code",
   "execution_count": 13,
   "metadata": {},
   "outputs": [
    {
     "ename": "IndexError",
     "evalue": "index 233 is out of bounds for axis 0 with size 7",
     "output_type": "error",
     "traceback": [
      "\u001b[1;31m---------------------------------------------------------------------------\u001b[0m",
      "\u001b[1;31mIndexError\u001b[0m                                Traceback (most recent call last)",
      "Cell \u001b[1;32mIn[13], line 1\u001b[0m\n\u001b[1;32m----> 1\u001b[0m \u001b[43mr1\u001b[49m\u001b[38;5;241;43m.\u001b[39;49m\u001b[43mpreprocess\u001b[49m\u001b[43m(\u001b[49m\u001b[43mdf\u001b[49m\u001b[43m)\u001b[49m\n",
      "File \u001b[1;32mc:\\Users\\namit\\Downloads\\auto\\AutomationPipeline\\mastermind.py:46\u001b[0m, in \u001b[0;36mRoboto.preprocess\u001b[1;34m(self, df)\u001b[0m\n\u001b[0;32m     44\u001b[0m col_names \u001b[38;5;241m=\u001b[39m [] \u001b[38;5;66;03m# capture names of cols with null values\u001b[39;00m\n\u001b[0;32m     45\u001b[0m \u001b[38;5;28;01mfor\u001b[39;00m idx \u001b[38;5;129;01min\u001b[39;00m col_idx:\n\u001b[1;32m---> 46\u001b[0m     name \u001b[38;5;241m=\u001b[39m \u001b[43mdf\u001b[49m\u001b[38;5;241;43m.\u001b[39;49m\u001b[43mcolumns\u001b[49m\u001b[43m[\u001b[49m\u001b[43midx\u001b[49m\u001b[43m]\u001b[49m\n\u001b[0;32m     47\u001b[0m     col_names\u001b[38;5;241m.\u001b[39mappend(name)   \n\u001b[0;32m     49\u001b[0m \u001b[38;5;66;03m#create dataframe of cols with null values\u001b[39;00m\n",
      "File \u001b[1;32mc:\\Users\\namit\\AppData\\Local\\Programs\\Python\\Python311\\Lib\\site-packages\\pandas\\core\\indexes\\base.py:5320\u001b[0m, in \u001b[0;36mIndex.__getitem__\u001b[1;34m(self, key)\u001b[0m\n\u001b[0;32m   5317\u001b[0m \u001b[38;5;28;01mif\u001b[39;00m is_integer(key) \u001b[38;5;129;01mor\u001b[39;00m is_float(key):\n\u001b[0;32m   5318\u001b[0m     \u001b[38;5;66;03m# GH#44051 exclude bool, which would return a 2d ndarray\u001b[39;00m\n\u001b[0;32m   5319\u001b[0m     key \u001b[38;5;241m=\u001b[39m com\u001b[38;5;241m.\u001b[39mcast_scalar_indexer(key, warn_float\u001b[38;5;241m=\u001b[39m\u001b[38;5;28;01mTrue\u001b[39;00m)\n\u001b[1;32m-> 5320\u001b[0m     \u001b[38;5;28;01mreturn\u001b[39;00m \u001b[43mgetitem\u001b[49m\u001b[43m(\u001b[49m\u001b[43mkey\u001b[49m\u001b[43m)\u001b[49m\n\u001b[0;32m   5322\u001b[0m \u001b[38;5;28;01mif\u001b[39;00m \u001b[38;5;28misinstance\u001b[39m(key, \u001b[38;5;28mslice\u001b[39m):\n\u001b[0;32m   5323\u001b[0m     \u001b[38;5;66;03m# This case is separated from the conditional above to avoid\u001b[39;00m\n\u001b[0;32m   5324\u001b[0m     \u001b[38;5;66;03m# pessimization com.is_bool_indexer and ndim checks.\u001b[39;00m\n\u001b[0;32m   5325\u001b[0m     result \u001b[38;5;241m=\u001b[39m getitem(key)\n",
      "\u001b[1;31mIndexError\u001b[0m: index 233 is out of bounds for axis 0 with size 7"
     ]
    }
   ],
   "source": [
    "r1.preprocess(df)"
   ]
  }
 ],
 "metadata": {
  "kernelspec": {
   "display_name": "Python 3",
   "language": "python",
   "name": "python3"
  },
  "language_info": {
   "codemirror_mode": {
    "name": "ipython",
    "version": 3
   },
   "file_extension": ".py",
   "mimetype": "text/x-python",
   "name": "python",
   "nbconvert_exporter": "python",
   "pygments_lexer": "ipython3",
   "version": "3.11.3"
  }
 },
 "nbformat": 4,
 "nbformat_minor": 2
}
