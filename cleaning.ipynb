{
 "cells": [
  {
   "cell_type": "code",
   "execution_count": 45,
   "metadata": {},
   "outputs": [],
   "source": [
    "import pandas as pd\n",
    "import nltk\n",
    "import re"
   ]
  },
  {
   "cell_type": "code",
   "execution_count": 46,
   "metadata": {},
   "outputs": [],
   "source": [
    "nl = (r\"C:\\Users\\namit\\OneDrive\\Desktop\\Test\\Test\\raw_belsimpel.xlsx\")\n",
    "nl = pd.read_excel(nl)\n",
    "nl = nl.drop(columns= ['Belsimpel'])"
   ]
  },
  {
   "cell_type": "code",
   "execution_count": 47,
   "metadata": {},
   "outputs": [
    {
     "data": {
      "text/html": [
       "<div>\n",
       "<style scoped>\n",
       "    .dataframe tbody tr th:only-of-type {\n",
       "        vertical-align: middle;\n",
       "    }\n",
       "\n",
       "    .dataframe tbody tr th {\n",
       "        vertical-align: top;\n",
       "    }\n",
       "\n",
       "    .dataframe thead th {\n",
       "        text-align: right;\n",
       "    }\n",
       "</style>\n",
       "<table border=\"1\" class=\"dataframe\">\n",
       "  <thead>\n",
       "    <tr style=\"text-align: right;\">\n",
       "      <th></th>\n",
       "      <th>web-scraper-order</th>\n",
       "      <th>web-scraper-start-url</th>\n",
       "      <th>Rating</th>\n",
       "      <th>Review Date</th>\n",
       "      <th>Review Text</th>\n",
       "      <th>Pro_Con Review</th>\n",
       "    </tr>\n",
       "  </thead>\n",
       "  <tbody>\n",
       "    <tr>\n",
       "      <th>0</th>\n",
       "      <td>1674825213-2</td>\n",
       "      <td>https://www.belsimpel.nl/google-pixel-7</td>\n",
       "      <td>5 sterren</td>\n",
       "      <td>*fd | 20-10-2022 over de Google Pixel 7 128GB ...</td>\n",
       "      <td>Vanaf een Huawei P30 pro die kapot ging de ove...</td>\n",
       "      <td>PluspuntSchermPluspuntSnelheidPluspuntCamera (...</td>\n",
       "    </tr>\n",
       "    <tr>\n",
       "      <th>1</th>\n",
       "      <td>1674825213-3</td>\n",
       "      <td>https://www.belsimpel.nl/google-pixel-7</td>\n",
       "      <td>5 sterren</td>\n",
       "      <td>*fd | 18-10-2022 over de Google Pixel 7 128GB ...</td>\n",
       "      <td>Voor de pure Android liefhebber is het een uit...</td>\n",
       "      <td>PluspuntPuur Android innovatief PluspuntScherm...</td>\n",
       "    </tr>\n",
       "    <tr>\n",
       "      <th>2</th>\n",
       "      <td>1674825213-4</td>\n",
       "      <td>https://www.belsimpel.nl/google-pixel-7</td>\n",
       "      <td>4.5 sterren</td>\n",
       "      <td>*fd | 17-10-2022 over de Google Pixel 7 128GB ...</td>\n",
       "      <td>Na jaren geleden 2x een Nexus gehad te hebben ...</td>\n",
       "      <td>PluspuntClean kale Android PluspuntLooksPluspu...</td>\n",
       "    </tr>\n",
       "  </tbody>\n",
       "</table>\n",
       "</div>"
      ],
      "text/plain": [
       "  web-scraper-order                    web-scraper-start-url       Rating  \\\n",
       "0      1674825213-2  https://www.belsimpel.nl/google-pixel-7    5 sterren   \n",
       "1      1674825213-3  https://www.belsimpel.nl/google-pixel-7    5 sterren   \n",
       "2      1674825213-4  https://www.belsimpel.nl/google-pixel-7  4.5 sterren   \n",
       "\n",
       "                                         Review Date  \\\n",
       "0  *fd | 20-10-2022 over de Google Pixel 7 128GB ...   \n",
       "1  *fd | 18-10-2022 over de Google Pixel 7 128GB ...   \n",
       "2  *fd | 17-10-2022 over de Google Pixel 7 128GB ...   \n",
       "\n",
       "                                         Review Text  \\\n",
       "0  Vanaf een Huawei P30 pro die kapot ging de ove...   \n",
       "1  Voor de pure Android liefhebber is het een uit...   \n",
       "2  Na jaren geleden 2x een Nexus gehad te hebben ...   \n",
       "\n",
       "                                      Pro_Con Review  \n",
       "0  PluspuntSchermPluspuntSnelheidPluspuntCamera (...  \n",
       "1  PluspuntPuur Android innovatief PluspuntScherm...  \n",
       "2  PluspuntClean kale Android PluspuntLooksPluspu...  "
      ]
     },
     "execution_count": 47,
     "metadata": {},
     "output_type": "execute_result"
    }
   ],
   "source": [
    "nl.head(3)"
   ]
  },
  {
   "cell_type": "code",
   "execution_count": 48,
   "metadata": {},
   "outputs": [
    {
     "name": "stdout",
     "output_type": "stream",
     "text": [
      "(486, 6)\n"
     ]
    }
   ],
   "source": [
    "print(nl.shape)"
   ]
  },
  {
   "cell_type": "code",
   "execution_count": 49,
   "metadata": {},
   "outputs": [
    {
     "data": {
      "text/plain": [
       "web-scraper-order          0\n",
       "web-scraper-start-url      0\n",
       "Rating                     0\n",
       "Review Date                0\n",
       "Review Text              233\n",
       "Pro_Con Review           114\n",
       "dtype: int64"
      ]
     },
     "execution_count": 49,
     "metadata": {},
     "output_type": "execute_result"
    }
   ],
   "source": [
    "nl.isnull().sum()"
   ]
  },
  {
   "cell_type": "code",
   "execution_count": 50,
   "metadata": {},
   "outputs": [],
   "source": [
    "reviews_nl = pd.DataFrame({'reviews' : nl['Review Text'] , 'pros-cons' : nl['Pro_Con Review']})"
   ]
  },
  {
   "cell_type": "code",
   "execution_count": 51,
   "metadata": {},
   "outputs": [],
   "source": [
    "# Check for null values in both columns at the same row\n",
    "null_rows = reviews_nl[reviews_nl['reviews'].isnull() & reviews_nl['pros-cons'].isnull()]"
   ]
  },
  {
   "cell_type": "code",
   "execution_count": 62,
   "metadata": {},
   "outputs": [],
   "source": [
    "# Drop the rows where both columns have null values\n",
    "review_nl = reviews_nl.dropna(subset=['reviews', 'pros-cons'], how='all', inplace=True)"
   ]
  },
  {
   "cell_type": "code",
   "execution_count": 63,
   "metadata": {},
   "outputs": [
    {
     "data": {
      "text/plain": [
       "reviews      0\n",
       "pros-cons    0\n",
       "dtype: int64"
      ]
     },
     "execution_count": 63,
     "metadata": {},
     "output_type": "execute_result"
    }
   ],
   "source": [
    "reviews_nl.isnull().sum()"
   ]
  },
  {
   "cell_type": "code",
   "execution_count": 64,
   "metadata": {},
   "outputs": [],
   "source": [
    "reviews_nl = reviews_nl.fillna(\"Nothing mentioned\")"
   ]
  },
  {
   "cell_type": "code",
   "execution_count": 65,
   "metadata": {},
   "outputs": [
    {
     "data": {
      "text/plain": [
       "reviews      0\n",
       "pros-cons    0\n",
       "dtype: int64"
      ]
     },
     "execution_count": 65,
     "metadata": {},
     "output_type": "execute_result"
    }
   ],
   "source": [
    "reviews_nl.isnull().sum()"
   ]
  },
  {
   "cell_type": "code",
   "execution_count": 56,
   "metadata": {},
   "outputs": [],
   "source": [
    "nl = nl.drop(columns=['Pro_Con Review' , 'Review Text'])"
   ]
  },
  {
   "cell_type": "code",
   "execution_count": 43,
   "metadata": {},
   "outputs": [
    {
     "name": "stdout",
     "output_type": "stream",
     "text": [
      "Index(['web-scraper-order', 'web-scraper-start-url', 'Rating', 'Review Date'], dtype='object')\n"
     ]
    }
   ],
   "source": [
    "print(nl.columns)"
   ]
  },
  {
   "cell_type": "code",
   "execution_count": 57,
   "metadata": {},
   "outputs": [],
   "source": [
    "nl = pd.DataFrame({'web-scraper-order' : nl['web-scraper-order'],\n",
    "                   'web-scraper-start-url' : nl['web-scraper-start-url'],\n",
    "                   'Rating' : nl['Rating'],\n",
    "                   'Review Date' : nl['Review Date'],\n",
    "                   'Review Text'  : reviews_nl['reviews'] , \n",
    "                   'Pros - Cons' : reviews_nl['pros-cons'],\n",
    "                   })"
   ]
  },
  {
   "cell_type": "code",
   "execution_count": 58,
   "metadata": {},
   "outputs": [
    {
     "data": {
      "text/html": [
       "<div>\n",
       "<style scoped>\n",
       "    .dataframe tbody tr th:only-of-type {\n",
       "        vertical-align: middle;\n",
       "    }\n",
       "\n",
       "    .dataframe tbody tr th {\n",
       "        vertical-align: top;\n",
       "    }\n",
       "\n",
       "    .dataframe thead th {\n",
       "        text-align: right;\n",
       "    }\n",
       "</style>\n",
       "<table border=\"1\" class=\"dataframe\">\n",
       "  <thead>\n",
       "    <tr style=\"text-align: right;\">\n",
       "      <th></th>\n",
       "      <th>web-scraper-order</th>\n",
       "      <th>web-scraper-start-url</th>\n",
       "      <th>Rating</th>\n",
       "      <th>Review Date</th>\n",
       "      <th>Review Text</th>\n",
       "      <th>Pros - Cons</th>\n",
       "    </tr>\n",
       "  </thead>\n",
       "  <tbody>\n",
       "    <tr>\n",
       "      <th>0</th>\n",
       "      <td>1674825213-2</td>\n",
       "      <td>https://www.belsimpel.nl/google-pixel-7</td>\n",
       "      <td>5 sterren</td>\n",
       "      <td>*fd | 20-10-2022 over de Google Pixel 7 128GB ...</td>\n",
       "      <td>Vanaf een Huawei P30 pro die kapot ging de ove...</td>\n",
       "      <td>PluspuntSchermPluspuntSnelheidPluspuntCamera (...</td>\n",
       "    </tr>\n",
       "    <tr>\n",
       "      <th>1</th>\n",
       "      <td>1674825213-3</td>\n",
       "      <td>https://www.belsimpel.nl/google-pixel-7</td>\n",
       "      <td>5 sterren</td>\n",
       "      <td>*fd | 18-10-2022 over de Google Pixel 7 128GB ...</td>\n",
       "      <td>Voor de pure Android liefhebber is het een uit...</td>\n",
       "      <td>PluspuntPuur Android innovatief PluspuntScherm...</td>\n",
       "    </tr>\n",
       "    <tr>\n",
       "      <th>2</th>\n",
       "      <td>1674825213-4</td>\n",
       "      <td>https://www.belsimpel.nl/google-pixel-7</td>\n",
       "      <td>4.5 sterren</td>\n",
       "      <td>*fd | 17-10-2022 over de Google Pixel 7 128GB ...</td>\n",
       "      <td>Na jaren geleden 2x een Nexus gehad te hebben ...</td>\n",
       "      <td>PluspuntClean kale Android PluspuntLooksPluspu...</td>\n",
       "    </tr>\n",
       "  </tbody>\n",
       "</table>\n",
       "</div>"
      ],
      "text/plain": [
       "  web-scraper-order                    web-scraper-start-url       Rating  \\\n",
       "0      1674825213-2  https://www.belsimpel.nl/google-pixel-7    5 sterren   \n",
       "1      1674825213-3  https://www.belsimpel.nl/google-pixel-7    5 sterren   \n",
       "2      1674825213-4  https://www.belsimpel.nl/google-pixel-7  4.5 sterren   \n",
       "\n",
       "                                         Review Date  \\\n",
       "0  *fd | 20-10-2022 over de Google Pixel 7 128GB ...   \n",
       "1  *fd | 18-10-2022 over de Google Pixel 7 128GB ...   \n",
       "2  *fd | 17-10-2022 over de Google Pixel 7 128GB ...   \n",
       "\n",
       "                                         Review Text  \\\n",
       "0  Vanaf een Huawei P30 pro die kapot ging de ove...   \n",
       "1  Voor de pure Android liefhebber is het een uit...   \n",
       "2  Na jaren geleden 2x een Nexus gehad te hebben ...   \n",
       "\n",
       "                                         Pros - Cons  \n",
       "0  PluspuntSchermPluspuntSnelheidPluspuntCamera (...  \n",
       "1  PluspuntPuur Android innovatief PluspuntScherm...  \n",
       "2  PluspuntClean kale Android PluspuntLooksPluspu...  "
      ]
     },
     "execution_count": 58,
     "metadata": {},
     "output_type": "execute_result"
    }
   ],
   "source": [
    "nl.head(3)"
   ]
  },
  {
   "cell_type": "code",
   "execution_count": 59,
   "metadata": {},
   "outputs": [
    {
     "data": {
      "text/plain": [
       "web-scraper-order          0\n",
       "web-scraper-start-url      0\n",
       "Rating                     0\n",
       "Review Date                0\n",
       "Review Text              105\n",
       "Pros - Cons              105\n",
       "dtype: int64"
      ]
     },
     "execution_count": 59,
     "metadata": {},
     "output_type": "execute_result"
    }
   ],
   "source": [
    "nl.isnull().sum()"
   ]
  },
  {
   "cell_type": "code",
   "execution_count": null,
   "metadata": {},
   "outputs": [],
   "source": [
    "import pandas as pd\n",
    "\n",
    "def read_excel_to_dataframe(file_path, sheet_name):\n",
    "    try:\n",
    "        # Read Excel file into a DataFrame\n",
    "        df = pd.read_excel(file_path, sheet_name=sheet_name)\n",
    "        print(\"Excel file successfully read into DataFrame.\")\n",
    "        return df\n",
    "    except FileNotFoundError:\n",
    "        print(\"Error: File not found.\")\n",
    "        return None\n",
    "    except Exception as e:\n",
    "        print(\"Error:\", e)\n",
    "        return None\n",
    "\n",
    "# Example usage\n",
    "file_path = \"path/to/your/file.xlsx\"  # Specify the path to your Excel file\n",
    "sheet_name = \"Sheet1\"  # Specify the sheet name\n",
    "df = read_excel_to_dataframe(file_path, sheet_name)\n",
    "if df is not None:\n",
    "    # Perform further processing or analysis with the DataFrame\n",
    "    print(df.head())\n"
   ]
  },
  {
   "cell_type": "code",
   "execution_count": null,
   "metadata": {},
   "outputs": [],
   "source": [
    "def preprocess(df):\n",
    "    "
   ]
  },
  {
   "cell_type": "code",
   "execution_count": 2,
   "metadata": {},
   "outputs": [],
   "source": [
    "def clean_text(text):\n",
    "    # Convert text to lowercase\n",
    "    text = text.lower()\n",
    "    \n",
    "    # Remove special characters, punctuation, and digits\n",
    "    text = re.sub(r'[^a-zA-Z\\s]', '', text)\n",
    "    \n",
    "    # Remove extra whitespaces\n",
    "    text = re.sub(r'\\s+', ' ', text).strip()\n",
    "    \n",
    "    return text"
   ]
  },
  {
   "cell_type": "code",
   "execution_count": 3,
   "metadata": {},
   "outputs": [],
   "source": [
    "def clean_dataframe(df, text_columns):\n",
    "    cleaned_df = df.copy()\n",
    "    \n",
    "    for column in text_columns:\n",
    "        cleaned_df[column] = cleaned_df[column].apply(clean_text)\n",
    "    \n",
    "    return cleaned_df"
   ]
  }
 ],
 "metadata": {
  "kernelspec": {
   "display_name": "Python 3",
   "language": "python",
   "name": "python3"
  },
  "language_info": {
   "codemirror_mode": {
    "name": "ipython",
    "version": 3
   },
   "file_extension": ".py",
   "mimetype": "text/x-python",
   "name": "python",
   "nbconvert_exporter": "python",
   "pygments_lexer": "ipython3",
   "version": "3.11.3"
  }
 },
 "nbformat": 4,
 "nbformat_minor": 2
}
