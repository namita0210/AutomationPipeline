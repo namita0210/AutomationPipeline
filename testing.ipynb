{
 "cells": [
  {
   "cell_type": "code",
   "execution_count": 1,
   "metadata": {},
   "outputs": [],
   "source": [
    "from  script import *"
   ]
  },
  {
   "cell_type": "code",
   "execution_count": 2,
   "metadata": {},
   "outputs": [],
   "source": [
    "path =  (r\"C:\\Users\\namit\\Downloads\\auto\\AutomationPipeline\\raw_belsimpel.xlsx\")"
   ]
  },
  {
   "cell_type": "code",
   "execution_count": 3,
   "metadata": {},
   "outputs": [],
   "source": [
    "r1 = Roboto()"
   ]
  },
  {
   "cell_type": "code",
   "execution_count": 4,
   "metadata": {},
   "outputs": [
    {
     "name": "stdout",
     "output_type": "stream",
     "text": [
      "Excel file successfully read into DataFrame.\n"
     ]
    }
   ],
   "source": [
    "df = r1.read_excel_to_dataframe(path)"
   ]
  },
  {
   "cell_type": "code",
   "execution_count": 6,
   "metadata": {},
   "outputs": [
    {
     "data": {
      "text/html": [
       "<div>\n",
       "<style scoped>\n",
       "    .dataframe tbody tr th:only-of-type {\n",
       "        vertical-align: middle;\n",
       "    }\n",
       "\n",
       "    .dataframe tbody tr th {\n",
       "        vertical-align: top;\n",
       "    }\n",
       "\n",
       "    .dataframe thead th {\n",
       "        text-align: right;\n",
       "    }\n",
       "</style>\n",
       "<table border=\"1\" class=\"dataframe\">\n",
       "  <thead>\n",
       "    <tr style=\"text-align: right;\">\n",
       "      <th></th>\n",
       "      <th>web-scraper-order</th>\n",
       "      <th>web-scraper-start-url</th>\n",
       "      <th>Rating</th>\n",
       "      <th>Review Date</th>\n",
       "      <th>Review Text</th>\n",
       "      <th>Pro_Con Review</th>\n",
       "      <th>Belsimpel</th>\n",
       "    </tr>\n",
       "  </thead>\n",
       "  <tbody>\n",
       "    <tr>\n",
       "      <th>0</th>\n",
       "      <td>1674825213-2</td>\n",
       "      <td>https://www.belsimpel.nl/google-pixel-7</td>\n",
       "      <td>5 sterren</td>\n",
       "      <td>*fd | 20-10-2022 over de Google Pixel 7 128GB ...</td>\n",
       "      <td>Vanaf een Huawei P30 pro die kapot ging de ove...</td>\n",
       "      <td>PluspuntSchermPluspuntSnelheidPluspuntCamera (...</td>\n",
       "      <td>NaN</td>\n",
       "    </tr>\n",
       "  </tbody>\n",
       "</table>\n",
       "</div>"
      ],
      "text/plain": [
       "  web-scraper-order                    web-scraper-start-url     Rating  \\\n",
       "0      1674825213-2  https://www.belsimpel.nl/google-pixel-7  5 sterren   \n",
       "\n",
       "                                         Review Date  \\\n",
       "0  *fd | 20-10-2022 over de Google Pixel 7 128GB ...   \n",
       "\n",
       "                                         Review Text  \\\n",
       "0  Vanaf een Huawei P30 pro die kapot ging de ove...   \n",
       "\n",
       "                                      Pro_Con Review  Belsimpel  \n",
       "0  PluspuntSchermPluspuntSnelheidPluspuntCamera (...        NaN  "
      ]
     },
     "execution_count": 6,
     "metadata": {},
     "output_type": "execute_result"
    }
   ],
   "source": [
    "df.head(1)"
   ]
  },
  {
   "cell_type": "code",
   "execution_count": 18,
   "metadata": {},
   "outputs": [
    {
     "name": "stdout",
     "output_type": "stream",
     "text": [
      "Debugging ---------- \n",
      "  \n",
      "      type nrows : <class 'int'> \n",
      "\n",
      "      size : (486, 7) \n",
      " nrows: 486\n"
     ]
    }
   ],
   "source": [
    "size = df.shape\n",
    "nrows = size[0]\n",
    "print(f'''Debugging ---------- \\n  \n",
    "      type nrows : {type(nrows)} \\n\n",
    "      size : {size} \\n nrows: {nrows}''')"
   ]
  },
  {
   "cell_type": "code",
   "execution_count": 19,
   "metadata": {},
   "outputs": [
    {
     "name": "stdout",
     "output_type": "stream",
     "text": [
      "Debugging -----------\n",
      " type: <class 'pandas.core.series.Series'> \n",
      " null values \n",
      " : web-scraper-order          0\n",
      "web-scraper-start-url      0\n",
      "Rating                     0\n",
      "Review Date                0\n",
      "Review Text              233\n",
      "Pro_Con Review           114\n",
      "Belsimpel                486\n",
      "dtype: int64\n"
     ]
    }
   ],
   "source": [
    "null_values = df.isnull().sum()\n",
    "print(f\"Debugging -----------\\n type: {type(null_values)} \\n null values \\n : {null_values}\")"
   ]
  },
  {
   "cell_type": "code",
   "execution_count": 35,
   "metadata": {},
   "outputs": [
    {
     "name": "stdout",
     "output_type": "stream",
     "text": [
      " Debugging --- \n",
      "      null_vals_dict = {'web-scraper-order': 0, 'web-scraper-start-url': 0, 'Rating': 0, 'Review Date': 0, 'Review Text': 233, 'Pro_Con Review': 114, 'Belsimpel': 486}\n",
      "      keys : dict_keys(['web-scraper-order', 'web-scraper-start-url', 'Rating', 'Review Date', 'Review Text', 'Pro_Con Review', 'Belsimpel'])\n",
      "     values : dict_values([0, 0, 0, 0, 233, 114, 486])\n"
     ]
    }
   ],
   "source": [
    "null_vals_dict = null_values.to_dict()\n",
    "print(f''' Debugging --- \n",
    "      null_vals_dict = {null_vals_dict}\n",
    "      keys : {null_vals_dict.keys()}\n",
    "     values : {null_vals_dict.values()}''')"
   ]
  },
  {
   "cell_type": "code",
   "execution_count": 37,
   "metadata": {},
   "outputs": [
    {
     "name": "stdout",
     "output_type": "stream",
     "text": [
      "  Filtered Dict : {'Review Text': 233, 'Pro_Con Review': 114}\n"
     ]
    }
   ],
   "source": [
    "filtered_dict = {key: value for key, value in null_vals_dict.items() if value > 0 and value != nrows}\n",
    "print(f'''  Filtered Dict : {filtered_dict}''')"
   ]
  },
  {
   "cell_type": "code",
   "execution_count": null,
   "metadata": {},
   "outputs": [],
   "source": []
  }
 ],
 "metadata": {
  "kernelspec": {
   "display_name": "Python 3",
   "language": "python",
   "name": "python3"
  },
  "language_info": {
   "codemirror_mode": {
    "name": "ipython",
    "version": 3
   },
   "file_extension": ".py",
   "mimetype": "text/x-python",
   "name": "python",
   "nbconvert_exporter": "python",
   "pygments_lexer": "ipython3",
   "version": "3.11.3"
  }
 },
 "nbformat": 4,
 "nbformat_minor": 2
}
