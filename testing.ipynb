{
 "cells": [
  {
   "cell_type": "code",
   "execution_count": 1,
   "metadata": {},
   "outputs": [],
   "source": [
    "from  script import *"
   ]
  },
  {
   "cell_type": "code",
   "execution_count": 2,
   "metadata": {},
   "outputs": [],
   "source": [
    "path =  (r\"C:\\Users\\namit\\Downloads\\auto\\AutomationPipeline\\raw_belsimpel.xlsx\")"
   ]
  },
  {
   "cell_type": "code",
   "execution_count": 3,
   "metadata": {},
   "outputs": [],
   "source": [
    "r1 = Roboto()"
   ]
  },
  {
   "cell_type": "code",
   "execution_count": 4,
   "metadata": {},
   "outputs": [
    {
     "name": "stdout",
     "output_type": "stream",
     "text": [
      "Excel file successfully read into DataFrame.\n"
     ]
    }
   ],
   "source": [
    "df = r1.read_excel_to_dataframe(path)"
   ]
  },
  {
   "cell_type": "code",
   "execution_count": 6,
   "metadata": {},
   "outputs": [
    {
     "data": {
      "text/html": [
       "<div>\n",
       "<style scoped>\n",
       "    .dataframe tbody tr th:only-of-type {\n",
       "        vertical-align: middle;\n",
       "    }\n",
       "\n",
       "    .dataframe tbody tr th {\n",
       "        vertical-align: top;\n",
       "    }\n",
       "\n",
       "    .dataframe thead th {\n",
       "        text-align: right;\n",
       "    }\n",
       "</style>\n",
       "<table border=\"1\" class=\"dataframe\">\n",
       "  <thead>\n",
       "    <tr style=\"text-align: right;\">\n",
       "      <th></th>\n",
       "      <th>web-scraper-order</th>\n",
       "      <th>web-scraper-start-url</th>\n",
       "      <th>Rating</th>\n",
       "      <th>Review Date</th>\n",
       "      <th>Review Text</th>\n",
       "      <th>Pro_Con Review</th>\n",
       "      <th>Belsimpel</th>\n",
       "    </tr>\n",
       "  </thead>\n",
       "  <tbody>\n",
       "    <tr>\n",
       "      <th>0</th>\n",
       "      <td>1674825213-2</td>\n",
       "      <td>https://www.belsimpel.nl/google-pixel-7</td>\n",
       "      <td>5 sterren</td>\n",
       "      <td>*fd | 20-10-2022 over de Google Pixel 7 128GB ...</td>\n",
       "      <td>Vanaf een Huawei P30 pro die kapot ging de ove...</td>\n",
       "      <td>PluspuntSchermPluspuntSnelheidPluspuntCamera (...</td>\n",
       "      <td>NaN</td>\n",
       "    </tr>\n",
       "  </tbody>\n",
       "</table>\n",
       "</div>"
      ],
      "text/plain": [
       "  web-scraper-order                    web-scraper-start-url     Rating  \\\n",
       "0      1674825213-2  https://www.belsimpel.nl/google-pixel-7  5 sterren   \n",
       "\n",
       "                                         Review Date  \\\n",
       "0  *fd | 20-10-2022 over de Google Pixel 7 128GB ...   \n",
       "\n",
       "                                         Review Text  \\\n",
       "0  Vanaf een Huawei P30 pro die kapot ging de ove...   \n",
       "\n",
       "                                      Pro_Con Review  Belsimpel  \n",
       "0  PluspuntSchermPluspuntSnelheidPluspuntCamera (...        NaN  "
      ]
     },
     "execution_count": 6,
     "metadata": {},
     "output_type": "execute_result"
    }
   ],
   "source": [
    "df.head(1)"
   ]
  },
  {
   "cell_type": "code",
   "execution_count": 18,
   "metadata": {},
   "outputs": [
    {
     "name": "stdout",
     "output_type": "stream",
     "text": [
      "Debugging ---------- \n",
      "  \n",
      "      type nrows : <class 'int'> \n",
      "\n",
      "      size : (486, 7) \n",
      " nrows: 486\n"
     ]
    }
   ],
   "source": [
    "size = df.shape\n",
    "nrows = size[0]\n",
    "print(f'''Debugging ---------- \\n  \n",
    "      type nrows : {type(nrows)} \\n\n",
    "      size : {size} \\n nrows: {nrows}''')"
   ]
  },
  {
   "cell_type": "code",
   "execution_count": 19,
   "metadata": {},
   "outputs": [
    {
     "name": "stdout",
     "output_type": "stream",
     "text": [
      "Debugging -----------\n",
      " type: <class 'pandas.core.series.Series'> \n",
      " null values \n",
      " : web-scraper-order          0\n",
      "web-scraper-start-url      0\n",
      "Rating                     0\n",
      "Review Date                0\n",
      "Review Text              233\n",
      "Pro_Con Review           114\n",
      "Belsimpel                486\n",
      "dtype: int64\n"
     ]
    }
   ],
   "source": [
    "null_values = df.isnull().sum()\n",
    "print(f\"Debugging -----------\\n type: {type(null_values)} \\n null values \\n : {null_values}\")"
   ]
  },
  {
   "cell_type": "code",
   "execution_count": 35,
   "metadata": {},
   "outputs": [
    {
     "name": "stdout",
     "output_type": "stream",
     "text": [
      " Debugging --- \n",
      "      null_vals_dict = {'web-scraper-order': 0, 'web-scraper-start-url': 0, 'Rating': 0, 'Review Date': 0, 'Review Text': 233, 'Pro_Con Review': 114, 'Belsimpel': 486}\n",
      "      keys : dict_keys(['web-scraper-order', 'web-scraper-start-url', 'Rating', 'Review Date', 'Review Text', 'Pro_Con Review', 'Belsimpel'])\n",
      "     values : dict_values([0, 0, 0, 0, 233, 114, 486])\n"
     ]
    }
   ],
   "source": [
    "null_vals_dict = null_values.to_dict()\n",
    "print(f''' Debugging --- \n",
    "      null_vals_dict = {null_vals_dict}\n",
    "      keys : {null_vals_dict.keys()}\n",
    "     values : {null_vals_dict.values()}''')"
   ]
  },
  {
   "cell_type": "code",
   "execution_count": 37,
   "metadata": {},
   "outputs": [
    {
     "name": "stdout",
     "output_type": "stream",
     "text": [
      "  Filtered Dict : {'Review Text': 233, 'Pro_Con Review': 114}\n"
     ]
    }
   ],
   "source": [
    "filtered_dict = {key: value for key, value in null_vals_dict.items() if value > 0 and value != nrows}\n",
    "print(f'''  Filtered Dict : {filtered_dict}''')"
   ]
  },
  {
   "cell_type": "code",
   "execution_count": 25,
   "metadata": {},
   "outputs": [
    {
     "name": "stdout",
     "output_type": "stream",
     "text": [
      " Debugging ------ \n",
      " Type col_idx = <class 'list'> \n",
      " col_idx : [4, 5]\n"
     ]
    }
   ],
   "source": [
    "col_idx = [] # capture index of null values\n",
    "for i, n in enumerate(null_values):\n",
    "    if ((n > 0) & ( n != nrows)): # is null values exist\n",
    "        col_idx.append(i)\n",
    "print(f''' Debugging ------ \\n Type col_idx = {type(col_idx)} \\n col_idx : {col_idx}''')"
   ]
  },
  {
   "cell_type": "code",
   "execution_count": 27,
   "metadata": {},
   "outputs": [
    {
     "name": "stdout",
     "output_type": "stream",
     "text": [
      " Debugging ------ \n",
      " Type col_names = <class 'list'> \n",
      "      \n",
      " col_names = ['Review Text', 'Pro_Con Review'] \n"
     ]
    }
   ],
   "source": [
    "col_names = [] # capture names of cols with null values\n",
    "for idx in col_idx:\n",
    "    name = df.columns[idx]\n",
    "    col_names.append(name)  \n",
    "print(f''' Debugging ------ \\n Type col_names = {type(col_names)} \n",
    "      \\n col_names = {col_names} ''')"
   ]
  },
  {
   "cell_type": "code",
   "execution_count": 30,
   "metadata": {},
   "outputs": [
    {
     "name": "stdout",
     "output_type": "stream",
     "text": [
      " Debugging ----- \n",
      "      \n",
      "dictionary : {'Review Text': 0      Vanaf een Huawei P30 pro die kapot ging de ove...\n",
      "1      Voor de pure Android liefhebber is het een uit...\n",
      "2      Na jaren geleden 2x een Nexus gehad te hebben ...\n",
      "3      Ik had hiervoor al de Pixel 6, daar was niks m...\n",
      "4      Pixel 7 nu een ruime week in bezit, en beval m...\n",
      "                             ...                        \n",
      "481                                                  NaN\n",
      "482    The phone is really smooth and delivers everyt...\n",
      "483    I've been using OnePlus since forever and deci...\n",
      "484    It's a great device for nearly 300 euros less ...\n",
      "485                                                  NaN\n",
      "Name: Review Text, Length: 486, dtype: object, 'Pro_Con Review': 0      PluspuntSchermPluspuntSnelheidPluspuntCamera (...\n",
      "1      PluspuntPuur Android innovatief PluspuntScherm...\n",
      "2      PluspuntClean kale Android PluspuntLooksPluspu...\n",
      "3      PluspuntStock androidPluspuntPixel featuresPlu...\n",
      "4      PluspuntUitstekend updatebeleidPluspuntPluspun...\n",
      "                             ...                        \n",
      "481       PluspuntCameraPluspuntOSPluspuntPixel Features\n",
      "482                 PluspuntCameraPluspuntUser Interface\n",
      "483    PluspuntSmooth designPluspuntDifferent camera ...\n",
      "484    PluspuntCompactPluspuntGreat designPluspuntBea...\n",
      "485    Pluspuntstunning haptic feedback Pluspuntsimpl...\n",
      "Name: Pro_Con Review, Length: 486, dtype: object}\n"
     ]
    }
   ],
   "source": [
    "dictionary = {}\n",
    "for name in col_names:\n",
    "    dictionary[name] = df[name]\n",
    "print(f''' Debugging ----- \n",
    "      \\ndictionary : {dictionary}''')    "
   ]
  },
  {
   "cell_type": "code",
   "execution_count": 31,
   "metadata": {},
   "outputs": [],
   "source": [
    "df2 = pd.DataFrame(dictionary)"
   ]
  },
  {
   "cell_type": "code",
   "execution_count": 32,
   "metadata": {},
   "outputs": [
    {
     "data": {
      "text/html": [
       "<div>\n",
       "<style scoped>\n",
       "    .dataframe tbody tr th:only-of-type {\n",
       "        vertical-align: middle;\n",
       "    }\n",
       "\n",
       "    .dataframe tbody tr th {\n",
       "        vertical-align: top;\n",
       "    }\n",
       "\n",
       "    .dataframe thead th {\n",
       "        text-align: right;\n",
       "    }\n",
       "</style>\n",
       "<table border=\"1\" class=\"dataframe\">\n",
       "  <thead>\n",
       "    <tr style=\"text-align: right;\">\n",
       "      <th></th>\n",
       "      <th>Review Text</th>\n",
       "      <th>Pro_Con Review</th>\n",
       "    </tr>\n",
       "  </thead>\n",
       "  <tbody>\n",
       "    <tr>\n",
       "      <th>0</th>\n",
       "      <td>Vanaf een Huawei P30 pro die kapot ging de ove...</td>\n",
       "      <td>PluspuntSchermPluspuntSnelheidPluspuntCamera (...</td>\n",
       "    </tr>\n",
       "    <tr>\n",
       "      <th>1</th>\n",
       "      <td>Voor de pure Android liefhebber is het een uit...</td>\n",
       "      <td>PluspuntPuur Android innovatief PluspuntScherm...</td>\n",
       "    </tr>\n",
       "    <tr>\n",
       "      <th>2</th>\n",
       "      <td>Na jaren geleden 2x een Nexus gehad te hebben ...</td>\n",
       "      <td>PluspuntClean kale Android PluspuntLooksPluspu...</td>\n",
       "    </tr>\n",
       "    <tr>\n",
       "      <th>3</th>\n",
       "      <td>Ik had hiervoor al de Pixel 6, daar was niks m...</td>\n",
       "      <td>PluspuntStock androidPluspuntPixel featuresPlu...</td>\n",
       "    </tr>\n",
       "    <tr>\n",
       "      <th>4</th>\n",
       "      <td>Pixel 7 nu een ruime week in bezit, en beval m...</td>\n",
       "      <td>PluspuntUitstekend updatebeleidPluspuntPluspun...</td>\n",
       "    </tr>\n",
       "    <tr>\n",
       "      <th>...</th>\n",
       "      <td>...</td>\n",
       "      <td>...</td>\n",
       "    </tr>\n",
       "    <tr>\n",
       "      <th>481</th>\n",
       "      <td>NaN</td>\n",
       "      <td>PluspuntCameraPluspuntOSPluspuntPixel Features</td>\n",
       "    </tr>\n",
       "    <tr>\n",
       "      <th>482</th>\n",
       "      <td>The phone is really smooth and delivers everyt...</td>\n",
       "      <td>PluspuntCameraPluspuntUser Interface</td>\n",
       "    </tr>\n",
       "    <tr>\n",
       "      <th>483</th>\n",
       "      <td>I've been using OnePlus since forever and deci...</td>\n",
       "      <td>PluspuntSmooth designPluspuntDifferent camera ...</td>\n",
       "    </tr>\n",
       "    <tr>\n",
       "      <th>484</th>\n",
       "      <td>It's a great device for nearly 300 euros less ...</td>\n",
       "      <td>PluspuntCompactPluspuntGreat designPluspuntBea...</td>\n",
       "    </tr>\n",
       "    <tr>\n",
       "      <th>485</th>\n",
       "      <td>NaN</td>\n",
       "      <td>Pluspuntstunning haptic feedback Pluspuntsimpl...</td>\n",
       "    </tr>\n",
       "  </tbody>\n",
       "</table>\n",
       "<p>486 rows × 2 columns</p>\n",
       "</div>"
      ],
      "text/plain": [
       "                                           Review Text  \\\n",
       "0    Vanaf een Huawei P30 pro die kapot ging de ove...   \n",
       "1    Voor de pure Android liefhebber is het een uit...   \n",
       "2    Na jaren geleden 2x een Nexus gehad te hebben ...   \n",
       "3    Ik had hiervoor al de Pixel 6, daar was niks m...   \n",
       "4    Pixel 7 nu een ruime week in bezit, en beval m...   \n",
       "..                                                 ...   \n",
       "481                                                NaN   \n",
       "482  The phone is really smooth and delivers everyt...   \n",
       "483  I've been using OnePlus since forever and deci...   \n",
       "484  It's a great device for nearly 300 euros less ...   \n",
       "485                                                NaN   \n",
       "\n",
       "                                        Pro_Con Review  \n",
       "0    PluspuntSchermPluspuntSnelheidPluspuntCamera (...  \n",
       "1    PluspuntPuur Android innovatief PluspuntScherm...  \n",
       "2    PluspuntClean kale Android PluspuntLooksPluspu...  \n",
       "3    PluspuntStock androidPluspuntPixel featuresPlu...  \n",
       "4    PluspuntUitstekend updatebeleidPluspuntPluspun...  \n",
       "..                                                 ...  \n",
       "481     PluspuntCameraPluspuntOSPluspuntPixel Features  \n",
       "482               PluspuntCameraPluspuntUser Interface  \n",
       "483  PluspuntSmooth designPluspuntDifferent camera ...  \n",
       "484  PluspuntCompactPluspuntGreat designPluspuntBea...  \n",
       "485  Pluspuntstunning haptic feedback Pluspuntsimpl...  \n",
       "\n",
       "[486 rows x 2 columns]"
      ]
     },
     "execution_count": 32,
     "metadata": {},
     "output_type": "execute_result"
    }
   ],
   "source": [
    "df2"
   ]
  },
  {
   "cell_type": "code",
   "execution_count": null,
   "metadata": {},
   "outputs": [],
   "source": []
  }
 ],
 "metadata": {
  "kernelspec": {
   "display_name": "Python 3",
   "language": "python",
   "name": "python3"
  },
  "language_info": {
   "codemirror_mode": {
    "name": "ipython",
    "version": 3
   },
   "file_extension": ".py",
   "mimetype": "text/x-python",
   "name": "python",
   "nbconvert_exporter": "python",
   "pygments_lexer": "ipython3",
   "version": "3.11.3"
  }
 },
 "nbformat": 4,
 "nbformat_minor": 2
}
