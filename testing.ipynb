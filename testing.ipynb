{
 "cells": [
  {
   "cell_type": "code",
   "execution_count": 1,
   "metadata": {},
   "outputs": [],
   "source": [
    "from demo import *"
   ]
  },
  {
   "cell_type": "code",
   "execution_count": 2,
   "metadata": {},
   "outputs": [],
   "source": [
    "path =  (r\"C:\\Users\\namit\\Downloads\\auto\\AutomationPipeline\\raw_belsimpel.xlsx\")"
   ]
  },
  {
   "cell_type": "code",
   "execution_count": 3,
   "metadata": {},
   "outputs": [],
   "source": [
    "r1 = Roboto()"
   ]
  },
  {
   "cell_type": "code",
   "execution_count": 4,
   "metadata": {},
   "outputs": [
    {
     "name": "stdout",
     "output_type": "stream",
     "text": [
      "Excel file successfully read into DataFrame.\n"
     ]
    }
   ],
   "source": [
    "df = r1.read_excel_to_dataframe(path)"
   ]
  },
  {
   "cell_type": "code",
   "execution_count": 5,
   "metadata": {},
   "outputs": [
    {
     "data": {
      "text/html": [
       "<div>\n",
       "<style scoped>\n",
       "    .dataframe tbody tr th:only-of-type {\n",
       "        vertical-align: middle;\n",
       "    }\n",
       "\n",
       "    .dataframe tbody tr th {\n",
       "        vertical-align: top;\n",
       "    }\n",
       "\n",
       "    .dataframe thead th {\n",
       "        text-align: right;\n",
       "    }\n",
       "</style>\n",
       "<table border=\"1\" class=\"dataframe\">\n",
       "  <thead>\n",
       "    <tr style=\"text-align: right;\">\n",
       "      <th></th>\n",
       "      <th>web-scraper-order</th>\n",
       "      <th>web-scraper-start-url</th>\n",
       "      <th>Rating</th>\n",
       "      <th>Review Date</th>\n",
       "      <th>Review Text</th>\n",
       "      <th>Pro_Con Review</th>\n",
       "      <th>Belsimpel</th>\n",
       "    </tr>\n",
       "  </thead>\n",
       "  <tbody>\n",
       "    <tr>\n",
       "      <th>0</th>\n",
       "      <td>1674825213-2</td>\n",
       "      <td>https://www.belsimpel.nl/google-pixel-7</td>\n",
       "      <td>5 sterren</td>\n",
       "      <td>*fd | 20-10-2022 over de Google Pixel 7 128GB ...</td>\n",
       "      <td>Vanaf een Huawei P30 pro die kapot ging de ove...</td>\n",
       "      <td>PluspuntSchermPluspuntSnelheidPluspuntCamera (...</td>\n",
       "      <td>NaN</td>\n",
       "    </tr>\n",
       "    <tr>\n",
       "      <th>1</th>\n",
       "      <td>1674825213-3</td>\n",
       "      <td>https://www.belsimpel.nl/google-pixel-7</td>\n",
       "      <td>5 sterren</td>\n",
       "      <td>*fd | 18-10-2022 over de Google Pixel 7 128GB ...</td>\n",
       "      <td>Voor de pure Android liefhebber is het een uit...</td>\n",
       "      <td>PluspuntPuur Android innovatief PluspuntScherm...</td>\n",
       "      <td>NaN</td>\n",
       "    </tr>\n",
       "    <tr>\n",
       "      <th>2</th>\n",
       "      <td>1674825213-4</td>\n",
       "      <td>https://www.belsimpel.nl/google-pixel-7</td>\n",
       "      <td>4.5 sterren</td>\n",
       "      <td>*fd | 17-10-2022 over de Google Pixel 7 128GB ...</td>\n",
       "      <td>Na jaren geleden 2x een Nexus gehad te hebben ...</td>\n",
       "      <td>PluspuntClean kale Android PluspuntLooksPluspu...</td>\n",
       "      <td>NaN</td>\n",
       "    </tr>\n",
       "    <tr>\n",
       "      <th>3</th>\n",
       "      <td>1674825213-5</td>\n",
       "      <td>https://www.belsimpel.nl/google-pixel-7</td>\n",
       "      <td>5 sterren</td>\n",
       "      <td>*fd | 14-10-2022 over de Google Pixel 7 128GB Wit</td>\n",
       "      <td>Ik had hiervoor al de Pixel 6, daar was niks m...</td>\n",
       "      <td>PluspuntStock androidPluspuntPixel featuresPlu...</td>\n",
       "      <td>NaN</td>\n",
       "    </tr>\n",
       "    <tr>\n",
       "      <th>4</th>\n",
       "      <td>1674825213-6</td>\n",
       "      <td>https://www.belsimpel.nl/google-pixel-7</td>\n",
       "      <td>4.5 sterren</td>\n",
       "      <td>*fd | 27-10-2022 over de Google Pixel 7 128GB ...</td>\n",
       "      <td>Pixel 7 nu een ruime week in bezit, en beval m...</td>\n",
       "      <td>PluspuntUitstekend updatebeleidPluspuntPluspun...</td>\n",
       "      <td>NaN</td>\n",
       "    </tr>\n",
       "  </tbody>\n",
       "</table>\n",
       "</div>"
      ],
      "text/plain": [
       "  web-scraper-order                    web-scraper-start-url       Rating  \\\n",
       "0      1674825213-2  https://www.belsimpel.nl/google-pixel-7    5 sterren   \n",
       "1      1674825213-3  https://www.belsimpel.nl/google-pixel-7    5 sterren   \n",
       "2      1674825213-4  https://www.belsimpel.nl/google-pixel-7  4.5 sterren   \n",
       "3      1674825213-5  https://www.belsimpel.nl/google-pixel-7    5 sterren   \n",
       "4      1674825213-6  https://www.belsimpel.nl/google-pixel-7  4.5 sterren   \n",
       "\n",
       "                                         Review Date  \\\n",
       "0  *fd | 20-10-2022 over de Google Pixel 7 128GB ...   \n",
       "1  *fd | 18-10-2022 over de Google Pixel 7 128GB ...   \n",
       "2  *fd | 17-10-2022 over de Google Pixel 7 128GB ...   \n",
       "3  *fd | 14-10-2022 over de Google Pixel 7 128GB Wit   \n",
       "4  *fd | 27-10-2022 over de Google Pixel 7 128GB ...   \n",
       "\n",
       "                                         Review Text  \\\n",
       "0  Vanaf een Huawei P30 pro die kapot ging de ove...   \n",
       "1  Voor de pure Android liefhebber is het een uit...   \n",
       "2  Na jaren geleden 2x een Nexus gehad te hebben ...   \n",
       "3  Ik had hiervoor al de Pixel 6, daar was niks m...   \n",
       "4  Pixel 7 nu een ruime week in bezit, en beval m...   \n",
       "\n",
       "                                      Pro_Con Review  Belsimpel  \n",
       "0  PluspuntSchermPluspuntSnelheidPluspuntCamera (...        NaN  \n",
       "1  PluspuntPuur Android innovatief PluspuntScherm...        NaN  \n",
       "2  PluspuntClean kale Android PluspuntLooksPluspu...        NaN  \n",
       "3  PluspuntStock androidPluspuntPixel featuresPlu...        NaN  \n",
       "4  PluspuntUitstekend updatebeleidPluspuntPluspun...        NaN  "
      ]
     },
     "execution_count": 5,
     "metadata": {},
     "output_type": "execute_result"
    }
   ],
   "source": [
    "df.head()"
   ]
  },
  {
   "cell_type": "code",
   "execution_count": null,
   "metadata": {},
   "outputs": [],
   "source": []
  }
 ],
 "metadata": {
  "kernelspec": {
   "display_name": "Python 3",
   "language": "python",
   "name": "python3"
  },
  "language_info": {
   "codemirror_mode": {
    "name": "ipython",
    "version": 3
   },
   "file_extension": ".py",
   "mimetype": "text/x-python",
   "name": "python",
   "nbconvert_exporter": "python",
   "pygments_lexer": "ipython3",
   "version": "3.11.3"
  }
 },
 "nbformat": 4,
 "nbformat_minor": 2
}
